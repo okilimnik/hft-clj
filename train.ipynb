{
 "cells": [
  {
   "cell_type": "code",
   "execution_count": null,
   "metadata": {},
   "outputs": [],
   "source": [
    "%pip install -Uqq fastbook"
   ]
  },
  {
   "cell_type": "code",
   "execution_count": null,
   "metadata": {},
   "outputs": [],
   "source": [
    "import fastbook\n",
    "fastbook.setup_book()\n",
    "from fastbook import *"
   ]
  },
  {
   "cell_type": "code",
   "execution_count": null,
   "metadata": {},
   "outputs": [],
   "source": [
    "n = [47, 100, 200, 500, 47, 100, 200, 500]\n",
    "n_total = sum(n)\n",
    "num_classes = len(n)\n",
    "w = [n_total / (num_classes * n_i) for n_i in n]\n",
    "weights = torch.FloatTensor(w).cuda()\n"
   ]
  },
  {
   "cell_type": "code",
   "execution_count": null,
   "metadata": {},
   "outputs": [],
   "source": [
    "images_path = '/kaggle/working/images/'\n",
    "pat = r'^(.*)_\\d+.png'\n",
    "files = get_image_files(images_path)\n",
    "roc_auc = RocAucBinary()\n",
    "\n",
    "loss_func = CrossEntropyLossFlat(weight=weights)\n",
    "dls = ImageDataLoaders.from_name_re(images_path, files, pat)\n",
    "#dls.show_batch()\n",
    "learn = vision_learner(dls, resnet18, loss_func=loss_func, metrics=roc_auc)\n"
   ]
  },
  {
   "cell_type": "code",
   "execution_count": null,
   "metadata": {},
   "outputs": [],
   "source": [
    "#learn.lr_find()"
   ]
  },
  {
   "cell_type": "code",
   "execution_count": null,
   "metadata": {},
   "outputs": [],
   "source": [
    "learn.fine_tune(10, 0.0003981071640737355)"
   ]
  },
  {
   "cell_type": "code",
   "execution_count": null,
   "metadata": {},
   "outputs": [],
   "source": [
    "learn.export(fname='/kaggle/working/model.pkl')"
   ]
  }
 ],
 "metadata": {
  "language_info": {
   "name": "python"
  },
  "orig_nbformat": 4
 },
 "nbformat": 4,
 "nbformat_minor": 2
}
